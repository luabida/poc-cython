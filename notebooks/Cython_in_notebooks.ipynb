{
 "cells": [
  {
   "cell_type": "code",
   "execution_count": 1,
   "id": "1bf4a7f8-c927-463d-8e13-532559b55cec",
   "metadata": {},
   "outputs": [],
   "source": [
    "%load_ext Cython"
   ]
  },
  {
   "cell_type": "markdown",
   "id": "077a2d5b-4e62-4665-ad4e-f9d4a2aba91f",
   "metadata": {},
   "source": [
    "----"
   ]
  },
  {
   "cell_type": "code",
   "execution_count": 2,
   "id": "b491bd98-f113-4d9c-80dc-8958598f057b",
   "metadata": {},
   "outputs": [
    {
     "name": "stdout",
     "output_type": "stream",
     "text": [
      "32.6 ms ± 1.76 ms per loop (mean ± std. dev. of 7 runs, 10 loops each)\n"
     ]
    }
   ],
   "source": [
    "%%timeit\n",
    "\n",
    "a = 0\n",
    "for i in range(1_000_000):\n",
    "    a += i"
   ]
  },
  {
   "cell_type": "code",
   "execution_count": 3,
   "id": "77ecd113-16ea-4788-bba8-21c2d0d6708b",
   "metadata": {},
   "outputs": [
    {
     "name": "stdout",
     "output_type": "stream",
     "text": [
      "15.5 ms ± 413 µs per loop (mean ± std. dev. of 7 runs, 100 loops each)\n"
     ]
    }
   ],
   "source": [
    "%%timeit\n",
    "%%cython\n",
    "\n",
    "cdef unsigned long long int a = 0 #cdef + C/C++ typing\n",
    "for i in range(1_000_000):\n",
    "    a += i"
   ]
  },
  {
   "cell_type": "markdown",
   "id": "0c89c0c0-84b5-4eff-bf7a-850fcf179e4b",
   "metadata": {},
   "source": [
    "----\n",
    "# Integrating a Cython Method `f()`\n",
    "\n",
    "## Pure Python:"
   ]
  },
  {
   "cell_type": "code",
   "execution_count": 4,
   "id": "a60225e7-2319-46ec-81b9-7f2359ed04b0",
   "metadata": {},
   "outputs": [],
   "source": [
    "def f(x):\n",
    "    return x ** 2 - x\n",
    "\n",
    "def integrate_f(a, b, N):\n",
    "    s = 0\n",
    "    dx = (b - a) / N\n",
    "    for i in range(N):\n",
    "        s += f(a + i * dx)\n",
    "    return s * dx"
   ]
  },
  {
   "cell_type": "code",
   "execution_count": 5,
   "id": "f430d055-9275-4903-b2ec-f3d0b89ca645",
   "metadata": {},
   "outputs": [
    {
     "name": "stdout",
     "output_type": "stream",
     "text": [
      "782 ns ± 11.7 ns per loop (mean ± std. dev. of 7 runs, 1,000,000 loops each)\n"
     ]
    }
   ],
   "source": [
    "%timeit integrate_f(2, 3, 4)"
   ]
  },
  {
   "cell_type": "markdown",
   "id": "b1bb2995-fecd-4f75-9ce5-71ca8cde4652",
   "metadata": {},
   "source": [
    "## Cython types:"
   ]
  },
  {
   "cell_type": "code",
   "execution_count": 6,
   "id": "250483ba-7de8-4fac-a513-a397ad9114c2",
   "metadata": {},
   "outputs": [],
   "source": [
    "%%cython\n",
    "def f(double x):\n",
    "    return x ** 2 - x\n",
    "\n",
    "def integrate_f(double a, double b, int N):\n",
    "    cdef int i\n",
    "    cdef double s, dx\n",
    "    \n",
    "    s = 0\n",
    "    dx = (b - a) / N\n",
    "    for i in range(N):\n",
    "        s += f(a + i * dx)\n",
    "    return s * dx"
   ]
  },
  {
   "cell_type": "code",
   "execution_count": 7,
   "id": "d3a298d1-d206-40be-9107-1e3cefe232fc",
   "metadata": {},
   "outputs": [
    {
     "name": "stdout",
     "output_type": "stream",
     "text": [
      "260 ns ± 5.45 ns per loop (mean ± std. dev. of 7 runs, 1,000,000 loops each)\n"
     ]
    }
   ],
   "source": [
    "%timeit integrate_f(2, 3, 4)"
   ]
  },
  {
   "cell_type": "markdown",
   "id": "fbcf08ad-b8db-483e-8bd6-55ea6a4fefdb",
   "metadata": {},
   "source": [
    "## Pure Cython:"
   ]
  },
  {
   "cell_type": "code",
   "execution_count": 8,
   "id": "df30af40-228f-4691-b816-5b86e8acabdd",
   "metadata": {},
   "outputs": [],
   "source": [
    "%%cython\n",
    "\"\"\"\n",
    "Some form of except-modifier should usually be added, \n",
    "otherwise Cython will not be able to propagate exceptions \n",
    "raised in the function (or a function it calls). \n",
    "\n",
    "The except? -2 means that an error will be checked for \n",
    "if -2 is returned (though the ? indicates that -2 may \n",
    "also be used as a valid return value). Alternatively, \n",
    "the slower except * is always safe. An except clause \n",
    "can be left out if the function returns a Python object \n",
    "or if it is guaranteed that an exception will not be \n",
    "raised within the function call.\n",
    "\"\"\"\n",
    "cdef double f(double x) except? -2:\n",
    "    return x ** 2 - x\n",
    "\n",
    "def integrate_f(double a, double b, int N):\n",
    "    cdef int i\n",
    "    cdef double s, dx\n",
    "    \n",
    "    s = 0\n",
    "    dx = (b - a) / N\n",
    "    for i in range(N):\n",
    "        s += f(a + i * dx)\n",
    "    return s * dx"
   ]
  },
  {
   "cell_type": "code",
   "execution_count": 9,
   "id": "f6ef94ea-32a6-427c-a4e7-12f076466c28",
   "metadata": {},
   "outputs": [
    {
     "name": "stdout",
     "output_type": "stream",
     "text": [
      "81.6 ns ± 3.39 ns per loop (mean ± std. dev. of 7 runs, 10,000,000 loops each)\n"
     ]
    }
   ],
   "source": [
    "%timeit integrate_f(2, 3, 4)"
   ]
  },
  {
   "cell_type": "markdown",
   "id": "162555af-226b-4bd1-9e85-1ebb07671ac4",
   "metadata": {},
   "source": [
    "## Python Function Wrapper:"
   ]
  },
  {
   "cell_type": "code",
   "execution_count": 10,
   "id": "103abe9e-27bf-4746-89db-a2b6d55f55d6",
   "metadata": {},
   "outputs": [],
   "source": [
    "%%cython\n",
    "\"\"\"\n",
    "A side-effect of `cdef` is that the function is no longer \n",
    "available from Python-space, as Python wouldn’t know how \n",
    "to call it. It is also no longer possible to change `f()` \n",
    "at runtime.\n",
    "\n",
    "Using the `cpdef` keyword instead of `cdef`, a Python wrapper \n",
    "is also created, so that the function is available both \n",
    "from Cython (fast, passing typed values directly) and \n",
    "from Python (wrapping values in Python objects). In fact, \n",
    "cpdef does not just provide a Python wrapper, it also \n",
    "installs logic to allow the method to be overridden by \n",
    "python methods, even when called from within cython. \n",
    "This does add a tiny overhead compared to cdef methods.\n",
    "\"\"\"\n",
    "cpdef double f(double x) except? -2:\n",
    "    return x ** 2 - x\n",
    "\n",
    "def integrate_f(double a, double b, int N):\n",
    "    cdef int i\n",
    "    cdef double s, dx\n",
    "    \n",
    "    s = 0\n",
    "    dx = (b - a) / N\n",
    "    for i in range(N):\n",
    "        s += f(a + i * dx)\n",
    "    return s * dx"
   ]
  },
  {
   "cell_type": "code",
   "execution_count": 11,
   "id": "7a871f40-34a5-48f2-8bf8-4af264782d51",
   "metadata": {},
   "outputs": [
    {
     "name": "stdout",
     "output_type": "stream",
     "text": [
      "81.3 ns ± 1.83 ns per loop (mean ± std. dev. of 7 runs, 10,000,000 loops each)\n"
     ]
    }
   ],
   "source": [
    "%timeit integrate_f(2, 3, 4)"
   ]
  },
  {
   "cell_type": "markdown",
   "id": "81aa47db-9071-4eef-a445-6aa5fd5e1f85",
   "metadata": {},
   "source": [
    "----"
   ]
  },
  {
   "cell_type": "code",
   "execution_count": null,
   "id": "4a1de1e4-851e-45b7-a775-7304418bfd62",
   "metadata": {},
   "outputs": [],
   "source": []
  }
 ],
 "metadata": {
  "kernelspec": {
   "display_name": "poc-cython",
   "language": "python",
   "name": "poc-cython"
  },
  "language_info": {
   "codemirror_mode": {
    "name": "ipython",
    "version": 3
   },
   "file_extension": ".py",
   "mimetype": "text/x-python",
   "name": "python",
   "nbconvert_exporter": "python",
   "pygments_lexer": "ipython3",
   "version": "3.11.0"
  }
 },
 "nbformat": 4,
 "nbformat_minor": 5
}
