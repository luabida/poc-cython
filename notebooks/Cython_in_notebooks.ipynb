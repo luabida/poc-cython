{
 "cells": [
  {
   "cell_type": "code",
   "execution_count": 12,
   "id": "1bf4a7f8-c927-463d-8e13-532559b55cec",
   "metadata": {},
   "outputs": [
    {
     "name": "stdout",
     "output_type": "stream",
     "text": [
      "The Cython extension is already loaded. To reload it, use:\n",
      "  %reload_ext Cython\n"
     ]
    }
   ],
   "source": [
    "%load_ext Cython"
   ]
  },
  {
   "cell_type": "markdown",
   "id": "077a2d5b-4e62-4665-ad4e-f9d4a2aba91f",
   "metadata": {},
   "source": [
    "----"
   ]
  },
  {
   "cell_type": "code",
   "execution_count": 13,
   "id": "77ecd113-16ea-4788-bba8-21c2d0d6708b",
   "metadata": {},
   "outputs": [
    {
     "name": "stdout",
     "output_type": "stream",
     "text": [
      "14.5 ms ± 295 µs per loop (mean ± std. dev. of 7 runs, 1 loop each)\n"
     ]
    }
   ],
   "source": [
    "%%timeit\n",
    "%%cython\n",
    "\n",
    "cdef unsigned long long int a = 0 #cdef + C/C++ typing\n",
    "for i in range(1_000_000):\n",
    "    a += i"
   ]
  },
  {
   "cell_type": "code",
   "execution_count": 14,
   "id": "b491bd98-f113-4d9c-80dc-8958598f057b",
   "metadata": {},
   "outputs": [
    {
     "name": "stdout",
     "output_type": "stream",
     "text": [
      "34.8 ms ± 461 µs per loop (mean ± std. dev. of 7 runs, 10 loops each)\n"
     ]
    }
   ],
   "source": [
    "%%timeit\n",
    "\n",
    "a = 0\n",
    "for i in range(1_000_000):\n",
    "    a += i"
   ]
  },
  {
   "cell_type": "markdown",
   "id": "0c89c0c0-84b5-4eff-bf7a-850fcf179e4b",
   "metadata": {},
   "source": [
    "----"
   ]
  },
  {
   "cell_type": "code",
   "execution_count": null,
   "id": "a60225e7-2319-46ec-81b9-7f2359ed04b0",
   "metadata": {},
   "outputs": [],
   "source": []
  }
 ],
 "metadata": {
  "kernelspec": {
   "display_name": "poc-cython",
   "language": "python",
   "name": "poc-cython"
  },
  "language_info": {
   "codemirror_mode": {
    "name": "ipython",
    "version": 3
   },
   "file_extension": ".py",
   "mimetype": "text/x-python",
   "name": "python",
   "nbconvert_exporter": "python",
   "pygments_lexer": "ipython3",
   "version": "3.11.0"
  }
 },
 "nbformat": 4,
 "nbformat_minor": 5
}
