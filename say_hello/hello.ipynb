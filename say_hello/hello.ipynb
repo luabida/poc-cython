{
 "cells": [
  {
   "cell_type": "code",
   "execution_count": 27,
   "id": "af462027-5e98-4367-8fc3-4e427d34be22",
   "metadata": {},
   "outputs": [],
   "source": [
    "from timeit import timeit\n",
    "\n",
    "cy = timeit(\n",
    "    \"say_hello_to('Cython')\",\n",
    "    number = 100_000_000,\n",
    "    setup = 'from hello import say_hello_to',\n",
    ")\n",
    "\n",
    "py = timeit(\n",
    "    \"say_hello_py('Python')\",\n",
    "    number = 100_000_000,\n",
    "    setup = 'from _hello import say_hello_py',\n",
    ")"
   ]
  },
  {
   "cell_type": "code",
   "execution_count": 28,
   "id": "bdfed44d-7ea6-4c82-8807-cfd11adb679e",
   "metadata": {},
   "outputs": [
    {
     "name": "stdout",
     "output_type": "stream",
     "text": [
      "Cython:  10.804735981000704\n",
      "Python:  13.083541144995252\n",
      "1.2109079914587133\n"
     ]
    }
   ],
   "source": [
    "print('Cython: ', cy)\n",
    "print('Python: ', py)\n",
    "print(py/cy)"
   ]
  }
 ],
 "metadata": {
  "kernelspec": {
   "display_name": "poc-cython",
   "language": "python",
   "name": "poc-cython"
  },
  "language_info": {
   "codemirror_mode": {
    "name": "ipython",
    "version": 3
   },
   "file_extension": ".py",
   "mimetype": "text/x-python",
   "name": "python",
   "nbconvert_exporter": "python",
   "pygments_lexer": "ipython3",
   "version": "3.11.0"
  }
 },
 "nbformat": 4,
 "nbformat_minor": 5
}
