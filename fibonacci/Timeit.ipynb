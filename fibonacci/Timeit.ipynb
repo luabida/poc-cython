{
 "cells": [
  {
   "cell_type": "code",
   "execution_count": 1,
   "id": "b077408e-bd5c-4faa-ae11-9317e1fe7110",
   "metadata": {},
   "outputs": [],
   "source": [
    "from timeit import timeit\n",
    "\n",
    "cy = timeit(\n",
    "    \"fib(1_000_000)\",\n",
    "    number = 1_000_000,\n",
    "    setup = 'from fib import fib',\n",
    ")\n",
    "\n",
    "py = timeit(\n",
    "    \"fib(1_000_000)\",\n",
    "    number = 1_000_000,\n",
    "    setup = 'from _fib import fib',\n",
    ")"
   ]
  },
  {
   "cell_type": "code",
   "execution_count": 2,
   "id": "9249a61c-e587-4045-b3e6-5de18dbfe2b6",
   "metadata": {},
   "outputs": [
    {
     "name": "stdout",
     "output_type": "stream",
     "text": [
      "Cython: 0.04146349400252802\n",
      "Python: 0.7011193599973922\n",
      "16.909316903072497\n"
     ]
    }
   ],
   "source": [
    "print('Cython:', cy)\n",
    "print('Python:', py)\n",
    "print(py/cy)"
   ]
  }
 ],
 "metadata": {
  "kernelspec": {
   "display_name": "poc-cython",
   "language": "python",
   "name": "poc-cython"
  },
  "language_info": {
   "codemirror_mode": {
    "name": "ipython",
    "version": 3
   },
   "file_extension": ".py",
   "mimetype": "text/x-python",
   "name": "python",
   "nbconvert_exporter": "python",
   "pygments_lexer": "ipython3",
   "version": "3.11.0"
  }
 },
 "nbformat": 4,
 "nbformat_minor": 5
}
